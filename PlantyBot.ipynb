{
 "cells": [
  {
   "cell_type": "code",
   "execution_count": null,
   "metadata": {},
   "outputs": [],
   "source": [
    "#https://www.sparkfun.com/products/13322"
   ]
  },
  {
   "cell_type": "code",
   "execution_count": 19,
   "metadata": {},
   "outputs": [],
   "source": [
    "GPIO.cleanup() #for debugging"
   ]
  },
  {
   "cell_type": "code",
   "execution_count": null,
   "metadata": {},
   "outputs": [],
   "source": [
    "import RPi.GPIO as GPIO\n",
    "import time\n",
    "import spiUtils as su\n",
    "import tweepy\n",
    "import os\n",
    "import datetime as dt\n",
    "\n",
    "pump_pin=18\n",
    "light_pin=19\n",
    "power_moist=20\n",
    "pump_count=0\n",
    "\n",
    "DARK=500\n",
    "DRY=800\n",
    "\n",
    "# twitter personal details - hidden for interview\n",
    "consumer_key = \"-----------------\"\n",
    "consumer_secret =\"-----------------\"\n",
    "access_token =\"-----------------\"\n",
    "access_token_secret =\"-----------------\"\n",
    "auth = tweepy.OAuthHandler(consumer_key, consumer_secret) \n",
    "auth.set_access_token(access_token, access_token_secret) \n",
    "api = tweepy.API(auth) \n",
    "\n",
    "\n",
    "GPIO.setmode(GPIO.BCM) #GPIO Setup\n",
    "\n",
    "#Water Pump Setup\n",
    "GPIO.setup(pump_pin, GPIO.OUT)\n",
    "GPIO.output(pump_pin,1)\n",
    "\n",
    "#Soil Moisture Sensor Setup\n",
    "GPIO.setup(power_moist, GPIO.OUT)\n",
    "GPIO.output(power_moist,1)\n",
    "\n",
    "#Plant Growth Light Setup\n",
    "GPIO.setup(light_pin, GPIO.OUT)\n",
    "\n",
    "def p(length): #Pump Spray burst\n",
    "    GPIO.output(pump_pin,0)\n",
    "    time.sleep(length)\n",
    "    GPIO.output(pump_pin,1)\n",
    "\n",
    "def p2(length): #Pump Spray Burst\n",
    "    start = time.time()\n",
    "    GPIO.output(pump_pin,0)\n",
    "    while(time.time()<start+length):\n",
    "            a=0\n",
    "    GPIO.output(pump_pin,1)\n",
    "    \n",
    "def moistRead():\n",
    "    GPIO.output(power_moist,0) #Power on sensor\n",
    "    time.sleep(3) #Wait to reduce error\n",
    "    \n",
    "    moisture = su.readADC(channel=0)# Collect Moisture Data\n",
    "    print(moisture)\n",
    "    \n",
    "    GPIO.output(power_moist,1) #Power off sensor\n",
    "    return moisture\n",
    "\n",
    "def lightRead():\n",
    "    return su.readADC(channel=1) #Read light sensor\n",
    "    \n",
    "while(True):\n",
    "    #Timestamp Info\n",
    "    now = time.time()\n",
    "    hour = (dt.datetime.now().hour +24 -7)%24\n",
    "    minute = dt.datetime.now().minute\n",
    "    print(hour,':',minute,\".\",pump_count)\n",
    "    \n",
    "    if(lightRead()<DARK): #if room is dark\n",
    "        print(\"dark\")\n",
    "        if(7<=hour and hour<=19): #and it's between 7am and 8pm\n",
    "            GPIO.output(light_pin,1) # turn on the grow light\n",
    "            print(\"light on\")\n",
    "    if(moistRead()<DRY): # if soil is dry\n",
    "        print(\"pumping\")\n",
    "        p(3) # pumps for 3 seconds\n",
    "        pump_count = pump_count + 1\n",
    "        \n",
    "    if( hour==12 and minute==0):# every day at noon\n",
    "        #Prepare Twitter Message\n",
    "        status = \"Moisture: \"+str(moistRead())+\", Light: \"+str(lightRead())\n",
    "        print(\"Picture time\")\n",
    "        timestamp = time.time()\n",
    "        #Take Picture\n",
    "        picname = \"ppic\"+str(timestamp)+\".jpg\"\n",
    "        os.system(\"raspistill -n -q 10 -o \"+picname)\n",
    "        #Post to Twitter\n",
    "        api.update_with_media(picname,status)\n",
    "        print(status)\n",
    "    while(time.time()<now+60): #wait a minute (clock cycle)\n",
    "        time.sleep(0.1)\n",
    "    GPIO.output(light_pin,0) #LED OFF while state is re-evaluated (imperceptable to people)\n",
    "\n",
    "\n",
    "    "
   ]
  },
  {
   "cell_type": "code",
   "execution_count": 22,
   "metadata": {},
   "outputs": [],
   "source": [
    "#Test Pumps\n",
    "p(5)"
   ]
  },
  {
   "cell_type": "code",
   "execution_count": 21,
   "metadata": {},
   "outputs": [
    {
     "name": "stdout",
     "output_type": "stream",
     "text": [
      "light: 147\n",
      "792\n",
      "moist: 792\n"
     ]
    }
   ],
   "source": [
    "#Test Sensors\n",
    "print(\"light:\",lightRead())\n",
    "print(\"moist:\",moistRead())"
   ]
  },
  {
   "cell_type": "code",
   "execution_count": null,
   "metadata": {},
   "outputs": [],
   "source": [
    "#Test Camera and Twitter\n",
    "# importing the module \n",
    "import tweepy \n",
    "import time\n",
    "import os\n",
    "  \n",
    "# personal details \n",
    "consumer_key =\"--------------------------\"\n",
    "consumer_secret =\"--------------------------\"\n",
    "access_token =\"--------------------------\"\n",
    "access_token_secret =\"--------------------------\"\n",
    "  \n",
    "# authentication of consumer key and secret \n",
    "auth = tweepy.OAuthHandler(consumer_key, consumer_secret) \n",
    "  \n",
    "# authentication of access token and secret \n",
    "auth.set_access_token(access_token, access_token_secret) \n",
    "api = tweepy.API(auth) \n",
    "\n",
    "#camera setup\n",
    "\n",
    "# update the status with image\n",
    "timestamp = time.time()\n",
    "picname = \"ppic\"+str(timestamp)+\".jpg\"\n",
    "os.system(\"raspistill -n -q 10 -o \"+picname)\n",
    "api.update_with_media(picname)\n",
    "\n"
   ]
  },
  {
   "cell_type": "code",
   "execution_count": 25,
   "metadata": {},
   "outputs": [
    {
     "name": "stdout",
     "output_type": "stream",
     "text": [
      "Picture time\n",
      "Moisture: 837, Light: 881\n"
     ]
    }
   ],
   "source": [
    "#Test All Components for Posting\n",
    "status = \"Moisture: \"+str(moistRead())+\", Light: \"+str(lightRead())\n",
    "print(\"Picture time\")\n",
    "timestamp = time.time()\n",
    "picname = \"ppic\"+str(timestamp)+\".jpg\"\n",
    "os.system(\"raspistill -n -q 10 -o \"+picname)\n",
    "api.update_with_media(picname,status)\n",
    "print(status)"
   ]
  }
 ],
 "metadata": {
  "kernelspec": {
   "display_name": "Python 3",
   "language": "python",
   "name": "python3"
  },
  "language_info": {
   "codemirror_mode": {
    "name": "ipython",
    "version": 3
   },
   "file_extension": ".py",
   "mimetype": "text/x-python",
   "name": "python",
   "nbconvert_exporter": "python",
   "pygments_lexer": "ipython3",
   "version": "3.6.4"
  }
 },
 "nbformat": 4,
 "nbformat_minor": 2
}
